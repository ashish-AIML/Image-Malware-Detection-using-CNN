{
 "cells": [
  {
   "cell_type": "code",
   "execution_count": 5,
   "metadata": {
    "id": "s9szsl6vlnb7"
   },
   "outputs": [],
   "source": [
    "# imports:\n",
    "import numpy as np\n",
    "import pickle\n",
    "import random\n",
    "from sklearn import metrics\n",
    "import pandas as pd"
   ]
  },
  {
   "cell_type": "code",
   "execution_count": 4,
   "metadata": {
    "id": "aaYy9XAOzumx"
   },
   "outputs": [],
   "source": [
    "# functions:\n",
    "\n",
    "dir = 'G:/University/Ph.D/AI for Sybersecurity/Project/Cleaned Datasets/'\n",
    "\n",
    "def save_obj(obj, name):\n",
    "    with open(dir + name + '.pkl', 'wb') as f:\n",
    "        pickle.dump(obj, f, pickle.HIGHEST_PROTOCOL)\n",
    "\n",
    "\n",
    "def load_obj(name):\n",
    "    with open(dir + name + '.pkl', 'rb') as f:\n",
    "        return pickle.load(f)"
   ]
  },
  {
   "cell_type": "code",
   "execution_count": 4,
   "metadata": {
    "colab": {
     "base_uri": "https://localhost:8080/"
    },
    "id": "rdI_dN7tkp7P",
    "outputId": "394f50dd-3e5c-4539-e6ae-ad3977df2fc4"
   },
   "outputs": [
    {
     "name": "stdout",
     "output_type": "stream",
     "text": [
      "Size of the image dataset: (3604, 1)\n",
      "Size of the labels: (3604,)\n"
     ]
    }
   ],
   "source": [
    "# Load the dataset from csv files:\n",
    "\n",
    "data_dir = 'G:/University/Ph.D/AI for Sybersecurity/Project/train_maldataset/'\n",
    "images = pd.read_csv(data_dir + 'train_img_2d.csv', header=None, sep='delimiter')  # read the csv file line by line\n",
    "labels = np.genfromtxt(data_dir + 'train_img_2d_labels.csv', delimiter=',')\n",
    "\n",
    "print(('Size of the image dataset: ') + str(images.shape))\n",
    "print(('Size of the labels: ') + str(labels.shape))\n"
   ]
  },
  {
   "cell_type": "code",
   "execution_count": 5,
   "metadata": {
    "colab": {
     "base_uri": "https://localhost:8080/"
    },
    "id": "TxMQ-Pdje2Na",
    "outputId": "2f2e7a61-b443-4bce-9378-c8ee318c69b0"
   },
   "outputs": [
    {
     "name": "stdout",
     "output_type": "stream",
     "text": [
      "shape of the dataset: (2395, 224, 224)\n",
      "shape of the labels: (2395,)\n"
     ]
    }
   ],
   "source": [
    "# generate a version of the dataset that just includes perfect-shaped images (224 * 224)\n",
    "\n",
    "dataset = []\n",
    "new_labels = []\n",
    "for i in range(len(images.values)):\n",
    "  img_vector = images.values[i][0].split(',')\n",
    "  if len(img_vector) == (224 * 224):\n",
    "    img = np.reshape(img_vector, (224, 224))\n",
    "    dataset.append(img.astype(float))\n",
    "    label = int(labels[i])\n",
    "    label = (label - 1) if label > 10 else label  # Since there is no class 10, shift all the labels grater than 10\n",
    "    new_labels.append(label)\n",
    "dataset = np.array(dataset)\n",
    "new_labels = np.array(new_labels)\n",
    "print('shape of the dataset: ' + str(dataset.shape))\n",
    "print('shape of the labels: ' + str(new_labels.shape))\n",
    "\n",
    "# save the results into a pickle file:\n",
    "save_obj(dataset, 'perfect_dataset')\n",
    "save_obj(new_labels, 'perfect_dataset_labels')"
   ]
  },
  {
   "cell_type": "code",
   "execution_count": 6,
   "metadata": {},
   "outputs": [
    {
     "name": "stdout",
     "output_type": "stream",
     "text": [
      "shape of the dataset: (3604, 224, 224)\n",
      "shape of the labels: (3604,)\n"
     ]
    }
   ],
   "source": [
    "# generate a full version of the dataset that includes thed perfect-shaped images (224 * 224) as well as resized version of the problematic images\n",
    "\n",
    "\n",
    "dataset2 = []\n",
    "for i in range(len(images.values)):\n",
    "    img_vector = images.values[i][0].split(',')\n",
    "    img = np.resize(img_vector, (224, 224))\n",
    "    dataset2.append(img.astype(float))\n",
    "\n",
    "dataset2 = np.array(dataset2)\n",
    "labels = [label if label < 10 else label - 1 for label in labels] # Since there is no class 10, shift all the labels grater than 10\n",
    "labels = np.array(labels)\n",
    "print('shape of the dataset: ' + str(dataset2.shape))\n",
    "print('shape of the labels: ' + str(labels.shape))\n",
    "\n",
    "# save the results into a pickle file:\n",
    "save_obj(dataset2, 'cleaned_dataset')\n",
    "save_obj(labels, 'cleaned_dataset_labels')"
   ]
  },
  {
   "cell_type": "code",
   "execution_count": 10,
   "metadata": {},
   "outputs": [
    {
     "name": "stdout",
     "output_type": "stream",
     "text": [
      "shape of the train set: (1796, 224, 224)\n",
      "shape of the train labels: (1796,)\n",
      "shape of the test set: (599, 224, 224)\n",
      "shape of the test labels: (599,)\n"
     ]
    }
   ],
   "source": [
    "# Split data from the first version into 25% test and 75% train data:\n",
    "\n",
    "trainX, testX, trainY, testY = train_test_split(dataset, labels, test_size = 0.25, random_state=42)\n",
    "print('shape of the train set: ' + str(trainX.shape))\n",
    "print('shape of the train labels: ' + str(trainY.shape))\n",
    "print('shape of the test set: ' + str(testX.shape))\n",
    "print('shape of the test labels: ' + str(testY.shape))\n",
    "\n",
    "# save results into a pickle file:\n",
    "save_obj(trainX, 'trainX')\n",
    "save_obj(trainY, 'trainY')\n",
    "save_obj(testX, 'testX')\n",
    "save_obj(testY, 'testY')"
   ]
  }
 ],
 "metadata": {
  "accelerator": "GPU",
  "colab": {
   "provenance": []
  },
  "gpuClass": "standard",
  "kernelspec": {
   "display_name": "Python 3",
   "language": "python",
   "name": "python3"
  },
  "language_info": {
   "codemirror_mode": {
    "name": "ipython",
    "version": 3
   },
   "file_extension": ".py",
   "mimetype": "text/x-python",
   "name": "python",
   "nbconvert_exporter": "python",
   "pygments_lexer": "ipython3",
   "version": "3.7.4"
  }
 },
 "nbformat": 4,
 "nbformat_minor": 1
}
