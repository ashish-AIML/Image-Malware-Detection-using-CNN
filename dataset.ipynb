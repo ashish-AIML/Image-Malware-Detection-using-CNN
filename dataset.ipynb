{
 "cells": [
  {
   "cell_type": "code",
   "execution_count": null,
   "metadata": {},
   "outputs": [],
   "source": [
    "import numpy as np\n",
    "import os\n",
    "import pandas as pd\n",
    "from PIL import Image"
   ]
  },
  {
   "cell_type": "code",
   "execution_count": null,
   "metadata": {},
   "outputs": [],
   "source": [
    "train_file = pd.read_csv(r\"C:\\uottawa\\cybersecurity\\project\\train\\train_maldataset\\cleaned_data.csv\", header=None)"
   ]
  },
  {
   "cell_type": "code",
   "execution_count": null,
   "metadata": {},
   "outputs": [],
   "source": [
    "train_file.head()"
   ]
  },
  {
   "cell_type": "code",
   "execution_count": null,
   "metadata": {},
   "outputs": [],
   "source": [
    "train_file.shape"
   ]
  },
  {
   "cell_type": "code",
   "execution_count": null,
   "metadata": {},
   "outputs": [],
   "source": [
    "labels_file = pd.read_csv(r\"C:\\uottawa\\cybersecurity\\project\\train\\train_maldataset\\train_img_2d_labels.csv\", header=None)"
   ]
  },
  {
   "cell_type": "code",
   "execution_count": null,
   "metadata": {},
   "outputs": [],
   "source": [
    "labels_file.shape"
   ]
  },
  {
   "cell_type": "code",
   "execution_count": null,
   "metadata": {},
   "outputs": [],
   "source": [
    "train_file.insert(0,None, labels_file)"
   ]
  },
  {
   "cell_type": "code",
   "execution_count": null,
   "metadata": {},
   "outputs": [],
   "source": [
    "train_file.shape"
   ]
  },
  {
   "cell_type": "code",
   "execution_count": null,
   "metadata": {},
   "outputs": [],
   "source": [
    "train_file.head()"
   ]
  },
  {
   "cell_type": "code",
   "execution_count": null,
   "metadata": {},
   "outputs": [],
   "source": [
    "data_img = train_file.iloc[:, 1:]\n",
    "data_img"
   ]
  },
  {
   "cell_type": "code",
   "execution_count": null,
   "metadata": {},
   "outputs": [],
   "source": [
    "labels_img = train_file.iloc[:, :1]\n",
    "labels_img"
   ]
  },
  {
   "cell_type": "code",
   "execution_count": null,
   "metadata": {},
   "outputs": [],
   "source": [
    "import os\n",
    "main_path = r\"C:\\uottawa\\cybersecurity\\project\\train\\train_maldataset\\rgb_images\\\\\"\n",
    "for each in range(0,len(labels_img)):\n",
    "    print(labels_img.iloc[each,0].astype(int))\n",
    "    # path = 'folder {}'.format(str(labels_img.iloc[each,0].astype(int)))\n",
    "    path = main_path+str(labels_img.iloc[each,0].astype(int))\n",
    "    if not os.path.exists(path):\n",
    "        os.mkdir(path)\n",
    "    # path = path+str(labels_img.iloc[each,0].astype(int))\n",
    "    # os.mkdir(path)\n",
    "    else:\n",
    "        print(\"already exists\")"
   ]
  },
  {
   "cell_type": "code",
   "execution_count": null,
   "metadata": {},
   "outputs": [],
   "source": [
    "for i, (x, y) in enumerate(zip(labels_img.values, data_img.values)):\n",
    "    print(i, x.astype(int), y)\n",
    "    mat = np.resize(y,(224,224))\n",
    "    img = Image.fromarray(np.uint8(mat * 255) , 'L')\n",
    "    img = img.convert('RGB')\n",
    "    img.save(r\"C:\\uottawa\\cybersecurity\\project\\train\\train_maldataset\\rgb_images\\\\\"+str(x[0].astype(int))+\"\\\\\"+str(i)+\".png\")\n",
    "    img = 0"
   ]
  },
  {
   "cell_type": "code",
   "execution_count": null,
   "metadata": {},
   "outputs": [],
   "source": []
  }
 ],
 "metadata": {
  "kernelspec": {
   "display_name": "Python 3.8.0 ('uottawa')",
   "language": "python",
   "name": "python3"
  },
  "language_info": {
   "codemirror_mode": {
    "name": "ipython",
    "version": 3
   },
   "file_extension": ".py",
   "mimetype": "text/x-python",
   "name": "python",
   "nbconvert_exporter": "python",
   "pygments_lexer": "ipython3",
   "version": "3.8.0"
  },
  "orig_nbformat": 4,
  "vscode": {
   "interpreter": {
    "hash": "4a06da908560bcf7745b0050205a714535c1e51dd1100dc79c9a19d0276b97a9"
   }
  }
 },
 "nbformat": 4,
 "nbformat_minor": 2
}
